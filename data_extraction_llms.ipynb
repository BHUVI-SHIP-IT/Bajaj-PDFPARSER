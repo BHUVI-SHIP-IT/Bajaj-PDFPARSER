{
 "cells": [
  {
   "cell_type": "code",
   "execution_count": 1,
   "metadata": {},
   "outputs": [],
   "source": [
    "!pip3 install --upgrade --quiet langchain langchain-community langchain-openai chromadb \n",
    "!pip3 install --upgrade --quiet pypdf pandas streamlit python-dotenv"
   ]
  },
  {
   "cell_type": "code",
   "execution_count": null,
   "metadata": {},
   "outputs": [],
   "source": [
    "# Import Langchain modules\n",
    "from langchain.document_loaders import PyPDFLoader\n",
    "from langchain_community.embeddings import OllamaEmbeddings\n",
    "from langchain_community.llms import Ollama\n",
    "from langchain.text_splitter import RecursiveCharacterTextSplitter\n",
    "#from langchain_openai import OpenAIEmbeddings, ChatOpenAI\n",
    "from langchain.vectorstores import Chroma\n",
    "from langchain_core.runnables import RunnablePassthrough\n",
    "from langchain_core.prompts import ChatPromptTemplate\n",
    "from langchain_core.pydantic_v1 import BaseModel, Field\n",
    "\n",
    "# Other modules and packages\n",
    "import os\n",
    "import tempfile\n",
    "import streamlit as st  \n",
    "import pandas as pd\n",
    "from dotenv import load_dotenv"
   ]
  },
  {
   "cell_type": "code",
   "execution_count": 150,
   "metadata": {},
   "outputs": [
    {
     "data": {
      "text/plain": [
       "'from langchain_openai import ChatOpenAI\\nos.environ[\\'OPENAI_API_KEY\\'] = os.getenv(\\'OPENAI_API_KEY\\')\\nllm = ChatOpenAI(model=\"gpt-3.5-turbo\")  # Requires OPENAI_API_KEY from Cell 2'"
      ]
     },
     "execution_count": 150,
     "metadata": {},
     "output_type": "execute_result"
    }
   ],
   "source": [
    "# Replace Cell 2's Ollama with:\n",
    "'''from langchain_openai import ChatOpenAI\n",
    "os.environ['OPENAI_API_KEY'] = os.getenv('OPENAI_API_KEY')\n",
    "llm = ChatOpenAI(model=\"gpt-3.5-turbo\")  # Requires OPENAI_API_KEY from Cell 2'''"
   ]
  },
  {
   "cell_type": "markdown",
   "metadata": {},
   "source": [
    "## Define our LLM"
   ]
  },
  {
   "cell_type": "code",
   "execution_count": 151,
   "metadata": {},
   "outputs": [
    {
     "data": {
      "text/plain": [
       "'Why did the cat sit on the computer? \\n\\nBecause it wanted to keep an eye on the mouse! 😄 \\n\\n---\\n\\nWould you like to hear another one? 😊'"
      ]
     },
     "execution_count": 151,
     "metadata": {},
     "output_type": "execute_result"
    }
   ],
   "source": [
    "load_dotenv()\n",
    "os.environ['OPENAI_API_KEY'] = os.getenv('OPENAI_API_KEY')\n",
    "llm = Ollama(model=\"gemma3:1b\")\n",
    "llm.invoke(\"Tell me a joke about cats\")"
   ]
  },
  {
   "cell_type": "markdown",
   "metadata": {},
   "source": [
    "## Process PDF document"
   ]
  },
  {
   "cell_type": "markdown",
   "metadata": {},
   "source": [
    "### Load PDF document"
   ]
  },
  {
   "cell_type": "code",
   "execution_count": 152,
   "metadata": {},
   "outputs": [
    {
     "data": {
      "text/plain": [
       "[Document(metadata={'producer': 'Microsoft® Word 2021', 'creator': 'Microsoft® Word 2021', 'creationdate': '2025-07-30T18:34:17+05:30', 'author': 'yathi yathish', 'moddate': '2025-07-30T18:34:17+05:30', 'source': 'sample_policy.pdf', 'total_pages': 3, 'page': 0, 'page_label': '1'}, page_content='1. Car Insurance Policy (Sample) \\nPolicy Number: CAR2023XYZ123 \\nInsured: John Doe \\nCoverage Period: 01-Jan-2024 to 31-Dec-2024 \\nVehicle Details: \\n• Make: Toyota \\n• Model: Camry 2022 \\n• Registration: DL01AB1234 \\nCoverage: \\n• Third-Party Liability: ₹15,00,000 \\n• Own Damage: ₹8,00,000 \\n• Personal Accident Cover: ₹10,00,000 \\nExclusions: \\n• Damage due to war/nuclear risks \\n• Driving under influence of alcohol \\n \\n2. Health Insurance Policy (Sample) \\nPolicy Number: HEALTH2023XYZ456 \\nInsured: Jane Smith \\nCoverage Period: 01-Feb-2024 to 31-Jan-2025 \\nSum Insured: ₹5,00,000 \\nCoverage Includes: \\n• Hospitalization expenses \\n• Pre/post-hospitalization (30/60 days) \\n• Day-care procedures \\nExclusions: \\n• Cosmetic treatments \\n• Pre-existing diseases (for first 2 years) \\n \\n3. Term Life Insurance Policy (Sample) \\nPolicy Number: LIFE2023XYZ789 \\nInsured: Robert Johnson \\nCoverage Period: 15-Mar-2024 to 14-Mar-2034 \\nSum Assured: ₹1,00,00,000'),\n",
       " Document(metadata={'producer': 'Microsoft® Word 2021', 'creator': 'Microsoft® Word 2021', 'creationdate': '2025-07-30T18:34:17+05:30', 'author': 'yathi yathish', 'moddate': '2025-07-30T18:34:17+05:30', 'source': 'sample_policy.pdf', 'total_pages': 3, 'page': 1, 'page_label': '2'}, page_content='Benefits: \\n• Death benefit to nominee \\n• Critical illness rider (optional) \\nExclusions: \\n• Suicide within first year \\n• Death due to illegal activities \\n \\n4. Travel Insurance Policy (Sample) \\nPolicy Number: TRAVEL2023XYZ101 \\nInsured: Sarah Williams \\nTrip Duration: 10 days (Europe) \\nCoverage: \\n• Medical emergencies: €50,000 \\n• Trip cancellation: ₹1,00,000 \\n• Lost baggage: ₹50,000 \\nExclusions: \\n• Extreme sports injuries \\n• Pre-existing medical conditions \\n \\n5. Home Insurance Policy (Sample) \\nPolicy Number: HOME2023XYZ202 \\nInsured: Michael Brown \\nProperty Address: 123, Green Park, Delhi \\nSum Insured: ₹75,00,000 \\nCoverage: \\n• Fire & natural disasters \\n• Theft/burglary \\n• Electrical appliance damage \\nExclusions: \\n• Wear & tear \\n• War/terrorism-related damage \\n \\nHow to Use These Samples?'),\n",
       " Document(metadata={'producer': 'Microsoft® Word 2021', 'creator': 'Microsoft® Word 2021', 'creationdate': '2025-07-30T18:34:17+05:30', 'author': 'yathi yathish', 'moddate': '2025-07-30T18:34:17+05:30', 'source': 'sample_policy.pdf', 'total_pages': 3, 'page': 2, 'page_label': '3'}, page_content='1. For PDF Parser Testing: \\no Save these as .txt or .pdf files in your data/ folder. \\no Test extraction of key fields (Policy No., Coverage, Exclusions). \\n2. For Query Testing: \\no Use questions like: \\n▪ \"What is the sum insured in HEALTH2023XYZ456?\" \\n▪ \"List exclusions in the car insurance policy.\"')]"
      ]
     },
     "execution_count": 152,
     "metadata": {},
     "output_type": "execute_result"
    }
   ],
   "source": [
    "loader = PyPDFLoader(\"sample_policy.pdf\")\n",
    "pages = loader.load()\n",
    "pages"
   ]
  },
  {
   "cell_type": "markdown",
   "metadata": {},
   "source": [
    "### Split document"
   ]
  },
  {
   "cell_type": "code",
   "execution_count": 172,
   "metadata": {},
   "outputs": [
    {
     "data": {
      "text/plain": [
       "[Document(metadata={'producer': 'Microsoft® Word 2021', 'creator': 'Microsoft® Word 2021', 'creationdate': '2025-07-30T18:34:17+05:30', 'author': 'yathi yathish', 'moddate': '2025-07-30T18:34:17+05:30', 'source': 'sample_policy.pdf', 'total_pages': 3, 'page': 0, 'page_label': '1'}, page_content='1. Car Insurance Policy (Sample) \\nPolicy Number: CAR2023XYZ123 \\nInsured: John Doe \\nCoverage Period: 01-Jan-2024 to 31-Dec-2024 \\nVehicle Details: \\n• Make: Toyota \\n• Model: Camry 2022 \\n• Registration: DL01AB1234 \\nCoverage: \\n• Third-Party Liability: ₹15,00,000 \\n• Own Damage: ₹8,00,000 \\n• Personal Accident Cover: ₹10,00,000 \\nExclusions: \\n• Damage due to war/nuclear risks \\n• Driving under influence of alcohol \\n \\n2. Health Insurance Policy (Sample) \\nPolicy Number: HEALTH2023XYZ456 \\nInsured: Jane Smith \\nCoverage Period: 01-Feb-2024 to 31-Jan-2025 \\nSum Insured: ₹5,00,000 \\nCoverage Includes: \\n• Hospitalization expenses \\n• Pre/post-hospitalization (30/60 days) \\n• Day-care procedures \\nExclusions: \\n• Cosmetic treatments \\n• Pre-existing diseases (for first 2 years) \\n \\n3. Term Life Insurance Policy (Sample) \\nPolicy Number: LIFE2023XYZ789 \\nInsured: Robert Johnson \\nCoverage Period: 15-Mar-2024 to 14-Mar-2034 \\nSum Assured: ₹1,00,00,000'),\n",
       " Document(metadata={'producer': 'Microsoft® Word 2021', 'creator': 'Microsoft® Word 2021', 'creationdate': '2025-07-30T18:34:17+05:30', 'author': 'yathi yathish', 'moddate': '2025-07-30T18:34:17+05:30', 'source': 'sample_policy.pdf', 'total_pages': 3, 'page': 1, 'page_label': '2'}, page_content='Benefits: \\n• Death benefit to nominee \\n• Critical illness rider (optional) \\nExclusions: \\n• Suicide within first year \\n• Death due to illegal activities \\n \\n4. Travel Insurance Policy (Sample) \\nPolicy Number: TRAVEL2023XYZ101 \\nInsured: Sarah Williams \\nTrip Duration: 10 days (Europe) \\nCoverage: \\n• Medical emergencies: €50,000 \\n• Trip cancellation: ₹1,00,000 \\n• Lost baggage: ₹50,000 \\nExclusions: \\n• Extreme sports injuries \\n• Pre-existing medical conditions \\n \\n5. Home Insurance Policy (Sample) \\nPolicy Number: HOME2023XYZ202 \\nInsured: Michael Brown \\nProperty Address: 123, Green Park, Delhi \\nSum Insured: ₹75,00,000 \\nCoverage: \\n• Fire & natural disasters \\n• Theft/burglary \\n• Electrical appliance damage \\nExclusions: \\n• Wear & tear \\n• War/terrorism-related damage \\n \\nHow to Use These Samples?'),\n",
       " Document(metadata={'producer': 'Microsoft® Word 2021', 'creator': 'Microsoft® Word 2021', 'creationdate': '2025-07-30T18:34:17+05:30', 'author': 'yathi yathish', 'moddate': '2025-07-30T18:34:17+05:30', 'source': 'sample_policy.pdf', 'total_pages': 3, 'page': 2, 'page_label': '3'}, page_content='1. For PDF Parser Testing: \\no Save these as .txt or .pdf files in your data/ folder. \\no Test extraction of key fields (Policy No., Coverage, Exclusions). \\n2. For Query Testing: \\no Use questions like: \\n▪ \"What is the sum insured in HEALTH2023XYZ456?\" \\n▪ \"List exclusions in the car insurance policy.\"')]"
      ]
     },
     "execution_count": 172,
     "metadata": {},
     "output_type": "execute_result"
    }
   ],
   "source": [
    "text_splitter = RecursiveCharacterTextSplitter(chunk_size=1500,\n",
    "                                            chunk_overlap=200,\n",
    "                                            length_function=len,\n",
    "                                            separators=[\"\\n\\n\", \"\\n\", \" \"])\n",
    "chunks = text_splitter.split_documents(pages)\n",
    "\n",
    "chunks"
   ]
  },
  {
   "cell_type": "markdown",
   "metadata": {},
   "source": [
    "### Create embeddings"
   ]
  },
  {
   "cell_type": "code",
   "execution_count": 257,
   "metadata": {},
   "outputs": [
    {
     "name": "stdout",
     "output_type": "stream",
     "text": [
      "768\n"
     ]
    }
   ],
   "source": [
    "def get_embedding_function():\n",
    "    embeddings = OllamaEmbeddings(model=\"nomic-embed-text\")\n",
    "    return embeddings\n",
    "\n",
    "embedding_function = get_embedding_function()\n",
    "#print(embedding_function)\n",
    "test_vector = embedding_function.embed_query(\"cat\")\n",
    "print(len(test_vector))"
   ]
  },
  {
   "cell_type": "code",
   "execution_count": 258,
   "metadata": {},
   "outputs": [
    {
     "data": {
      "text/plain": [
       "{'score': 0.3485219058930902}"
      ]
     },
     "execution_count": 258,
     "metadata": {},
     "output_type": "execute_result"
    }
   ],
   "source": [
    "from langchain.evaluation import load_evaluator\n",
    "\n",
    "evaluator = load_evaluator(evaluator=\"embedding_distance\", \n",
    "                            embeddings=embedding_function)\n",
    "\n",
    "evaluator.evaluate_strings(prediction=\"Amsterdam\", reference=\"coffeeshop\")"
   ]
  },
  {
   "cell_type": "code",
   "execution_count": 259,
   "metadata": {},
   "outputs": [
    {
     "data": {
      "text/plain": [
       "{'score': 0.34429569728684584}"
      ]
     },
     "execution_count": 259,
     "metadata": {},
     "output_type": "execute_result"
    }
   ],
   "source": [
    "evaluator.evaluate_strings(prediction=\"Paris\", reference=\"coffeeshop\")"
   ]
  },
  {
   "cell_type": "markdown",
   "metadata": {},
   "source": [
    "### Create vector database"
   ]
  },
  {
   "cell_type": "code",
   "execution_count": 260,
   "metadata": {},
   "outputs": [],
   "source": [
    "import uuid\n",
    "\n",
    "def create_vectorstore(chunks, embedding_function, vectorstore_path):\n",
    "\n",
    "    # Create a list of unique ids for each document based on the content\n",
    "    ids = [str(uuid.uuid5(uuid.NAMESPACE_DNS, doc.page_content)) for doc in chunks]\n",
    "    \n",
    "    #print(ids[:5])\n",
    "    \n",
    "    # Ensure that only unique docs with unique ids are kept\n",
    "    unique_ids = set()\n",
    "    unique_chunks = []\n",
    "    \n",
    "    unique_chunks = [] \n",
    "    for chunk, id in zip(chunks, ids):     \n",
    "        if id not in unique_ids:\n",
    "            print(unique_chunks)       \n",
    "            unique_ids.add(id)\n",
    "            unique_chunks.append(chunk) \n",
    "\n",
    "    # Create a new Chroma database from the documents\n",
    "    vectorstore = Chroma.from_documents(documents=unique_chunks, \n",
    "                                        ids=list(unique_ids),\n",
    "                                        embedding=embedding_function, \n",
    "                                        persist_directory = vectorstore_path)\n",
    "\n",
    "    vectorstore.persist()\n",
    "    \n",
    "    return vectorstore"
   ]
  },
  {
   "cell_type": "code",
   "execution_count": 261,
   "metadata": {},
   "outputs": [
    {
     "name": "stdout",
     "output_type": "stream",
     "text": [
      "[]\n",
      "[Document(metadata={'producer': 'Microsoft® Word 2021', 'creator': 'Microsoft® Word 2021', 'creationdate': '2025-07-30T18:34:17+05:30', 'author': 'yathi yathish', 'moddate': '2025-07-30T18:34:17+05:30', 'source': 'sample_policy.pdf', 'total_pages': 3, 'page': 0, 'page_label': '1'}, page_content='1. Car Insurance Policy (Sample) \\nPolicy Number: CAR2023XYZ123 \\nInsured: John Doe \\nCoverage Period: 01-Jan-2024 to 31-Dec-2024 \\nVehicle Details: \\n• Make: Toyota \\n• Model: Camry 2022 \\n• Registration: DL01AB1234 \\nCoverage: \\n• Third-Party Liability: ₹15,00,000 \\n• Own Damage: ₹8,00,000 \\n• Personal Accident Cover: ₹10,00,000 \\nExclusions: \\n• Damage due to war/nuclear risks \\n• Driving under influence of alcohol \\n \\n2. Health Insurance Policy (Sample) \\nPolicy Number: HEALTH2023XYZ456 \\nInsured: Jane Smith \\nCoverage Period: 01-Feb-2024 to 31-Jan-2025 \\nSum Insured: ₹5,00,000 \\nCoverage Includes: \\n• Hospitalization expenses \\n• Pre/post-hospitalization (30/60 days) \\n• Day-care procedures \\nExclusions: \\n• Cosmetic treatments \\n• Pre-existing diseases (for first 2 years) \\n \\n3. Term Life Insurance Policy (Sample) \\nPolicy Number: LIFE2023XYZ789 \\nInsured: Robert Johnson \\nCoverage Period: 15-Mar-2024 to 14-Mar-2034 \\nSum Assured: ₹1,00,00,000')]\n",
      "[Document(metadata={'producer': 'Microsoft® Word 2021', 'creator': 'Microsoft® Word 2021', 'creationdate': '2025-07-30T18:34:17+05:30', 'author': 'yathi yathish', 'moddate': '2025-07-30T18:34:17+05:30', 'source': 'sample_policy.pdf', 'total_pages': 3, 'page': 0, 'page_label': '1'}, page_content='1. Car Insurance Policy (Sample) \\nPolicy Number: CAR2023XYZ123 \\nInsured: John Doe \\nCoverage Period: 01-Jan-2024 to 31-Dec-2024 \\nVehicle Details: \\n• Make: Toyota \\n• Model: Camry 2022 \\n• Registration: DL01AB1234 \\nCoverage: \\n• Third-Party Liability: ₹15,00,000 \\n• Own Damage: ₹8,00,000 \\n• Personal Accident Cover: ₹10,00,000 \\nExclusions: \\n• Damage due to war/nuclear risks \\n• Driving under influence of alcohol \\n \\n2. Health Insurance Policy (Sample) \\nPolicy Number: HEALTH2023XYZ456 \\nInsured: Jane Smith \\nCoverage Period: 01-Feb-2024 to 31-Jan-2025 \\nSum Insured: ₹5,00,000 \\nCoverage Includes: \\n• Hospitalization expenses \\n• Pre/post-hospitalization (30/60 days) \\n• Day-care procedures \\nExclusions: \\n• Cosmetic treatments \\n• Pre-existing diseases (for first 2 years) \\n \\n3. Term Life Insurance Policy (Sample) \\nPolicy Number: LIFE2023XYZ789 \\nInsured: Robert Johnson \\nCoverage Period: 15-Mar-2024 to 14-Mar-2034 \\nSum Assured: ₹1,00,00,000'), Document(metadata={'producer': 'Microsoft® Word 2021', 'creator': 'Microsoft® Word 2021', 'creationdate': '2025-07-30T18:34:17+05:30', 'author': 'yathi yathish', 'moddate': '2025-07-30T18:34:17+05:30', 'source': 'sample_policy.pdf', 'total_pages': 3, 'page': 1, 'page_label': '2'}, page_content='Benefits: \\n• Death benefit to nominee \\n• Critical illness rider (optional) \\nExclusions: \\n• Suicide within first year \\n• Death due to illegal activities \\n \\n4. Travel Insurance Policy (Sample) \\nPolicy Number: TRAVEL2023XYZ101 \\nInsured: Sarah Williams \\nTrip Duration: 10 days (Europe) \\nCoverage: \\n• Medical emergencies: €50,000 \\n• Trip cancellation: ₹1,00,000 \\n• Lost baggage: ₹50,000 \\nExclusions: \\n• Extreme sports injuries \\n• Pre-existing medical conditions \\n \\n5. Home Insurance Policy (Sample) \\nPolicy Number: HOME2023XYZ202 \\nInsured: Michael Brown \\nProperty Address: 123, Green Park, Delhi \\nSum Insured: ₹75,00,000 \\nCoverage: \\n• Fire & natural disasters \\n• Theft/burglary \\n• Electrical appliance damage \\nExclusions: \\n• Wear & tear \\n• War/terrorism-related damage \\n \\nHow to Use These Samples?')]\n"
     ]
    }
   ],
   "source": [
    "# Create vectorstore\n",
    "vectorstore = create_vectorstore(chunks=chunks, \n",
    "                                 embedding_function=embedding_function, \n",
    "                                 vectorstore_path=\"vectorstore_test\")"
   ]
  },
  {
   "cell_type": "markdown",
   "metadata": {},
   "source": [
    "## 2. Query for relevant data"
   ]
  },
  {
   "cell_type": "code",
   "execution_count": 285,
   "metadata": {},
   "outputs": [
    {
     "name": "stdout",
     "output_type": "stream",
     "text": [
      "Vectorstore contains 3 documents\n"
     ]
    }
   ],
   "source": [
    "# Load vectorstore\n",
    "vectorstore = Chroma(persist_directory=\"vectorstore_test\", embedding_function=embedding_function)\n",
    "# Add after Cell 8\n",
    "print(f\"Vectorstore contains {vectorstore._collection.count()} documents\")  # Should be > 0"
   ]
  },
  {
   "cell_type": "code",
   "execution_count": 288,
   "metadata": {},
   "outputs": [
    {
     "data": {
      "text/plain": [
       "[Document(metadata={'producer': 'Microsoft® Word 2021', 'page_label': '1', 'total_pages': 3, 'creator': 'Microsoft® Word 2021', 'page': 0, 'author': 'yathi yathish', 'creationdate': '2025-07-30T18:34:17+05:30', 'source': 'sample_policy.pdf', 'moddate': '2025-07-30T18:34:17+05:30'}, page_content='1. Car Insurance Policy (Sample) \\nPolicy Number: CAR2023XYZ123 \\nInsured: John Doe \\nCoverage Period: 01-Jan-2024 to 31-Dec-2024 \\nVehicle Details: \\n• Make: Toyota \\n• Model: Camry 2022 \\n• Registration: DL01AB1234 \\nCoverage: \\n• Third-Party Liability: ₹15,00,000 \\n• Own Damage: ₹8,00,000 \\n• Personal Accident Cover: ₹10,00,000 \\nExclusions: \\n• Damage due to war/nuclear risks \\n• Driving under influence of alcohol \\n \\n2. Health Insurance Policy (Sample) \\nPolicy Number: HEALTH2023XYZ456 \\nInsured: Jane Smith \\nCoverage Period: 01-Feb-2024 to 31-Jan-2025 \\nSum Insured: ₹5,00,000 \\nCoverage Includes: \\n• Hospitalization expenses \\n• Pre/post-hospitalization (30/60 days) \\n• Day-care procedures \\nExclusions: \\n• Cosmetic treatments \\n• Pre-existing diseases (for first 2 years) \\n \\n3. Term Life Insurance Policy (Sample) \\nPolicy Number: LIFE2023XYZ789 \\nInsured: Robert Johnson \\nCoverage Period: 15-Mar-2024 to 14-Mar-2034 \\nSum Assured: ₹1,00,00,000')]"
      ]
     },
     "execution_count": 288,
     "metadata": {},
     "output_type": "execute_result"
    }
   ],
   "source": [
    "# Create retriever and get relevant chunks\n",
    "retriever = vectorstore.as_retriever(search_type=\"similarity\")\n",
    "relevant_chunks = retriever.invoke(\"what is car insurance policy ?\")\n",
    "relevant_chunks[:1]"
   ]
  },
  {
   "cell_type": "code",
   "execution_count": 294,
   "metadata": {},
   "outputs": [
    {
     "name": "stdout",
     "output_type": "stream",
     "text": [
      "[\n",
      "  {\n",
      "    \"content\": \"1. Car Insurance Policy (Sample) \\nPolicy Number: CAR2023XYZ123 \\nInsured: John Doe \\nCoverage Period: 01-Jan-2024 to 31-Dec-2024 \\nVehicle Details: \\n\\u2022 Make: Toyota \\n\\u2022 Model: Camry 2022 \\n\\u2022 Registration: DL01AB1234 \\nCoverage: \\n\\u2022 Third-Party Liability: \\u20b915,00,000 \\n\\u2022 Own Damage: \\u20b98,00,000 \\n\\u2022 Personal Accident Cover: \\u20b910,00,000 \\nExclusions: \\n\\u2022 Damage due to war/nuclear risks \\n\\u2022 Driving under influence of alcohol \\n \\n2. Health Insurance Policy (Sample) \\nPolicy Number: HEALTH2023XYZ456 \\nInsured: Jane Smith \\nCoverage Period: 01-Feb-2024 to 31-Jan-2025 \\nSum Insured: \\u20b95,00,000 \\nCoverage Includes: \\n\\u2022 Hospitalization expenses \\n\\u2022 Pre/post-hospitalization (30/60 days) \\n\\u2022 Day-care procedures \\nExclusions: \\n\\u2022 Cosmetic treatments \\n\\u2022 Pre-existing diseases (for first 2 years) \\n \\n3. Term Life Insurance Policy (Sample) \\nPolicy Number: LIFE2023XYZ789 \\nInsured: Robert Johnson \\nCoverage Period: 15-Mar-2024 to 14-Mar-2034 \\nSum Assured: \\u20b91,00,00,000\",\n",
      "    \"metadata\": {\n",
      "      \"page\": 0,\n",
      "      \"source\": \"sample_policy.pdf\"\n",
      "    }\n",
      "  },\n",
      "  {\n",
      "    \"content\": \"Benefits: \\n\\u2022 Death benefit to nominee \\n\\u2022 Critical illness rider (optional) \\nExclusions: \\n\\u2022 Suicide within first year \\n\\u2022 Death due to illegal activities \\n \\n4. Travel Insurance Policy (Sample) \\nPolicy Number: TRAVEL2023XYZ101 \\nInsured: Sarah Williams \\nTrip Duration: 10 days (Europe) \\nCoverage: \\n\\u2022 Medical emergencies: \\u20ac50,000 \\n\\u2022 Trip cancellation: \\u20b91,00,000 \\n\\u2022 Lost baggage: \\u20b950,000 \\nExclusions: \\n\\u2022 Extreme sports injuries \\n\\u2022 Pre-existing medical conditions \\n \\n5. Home Insurance Policy (Sample) \\nPolicy Number: HOME2023XYZ202 \\nInsured: Michael Brown \\nProperty Address: 123, Green Park, Delhi \\nSum Insured: \\u20b975,00,000 \\nCoverage: \\n\\u2022 Fire & natural disasters \\n\\u2022 Theft/burglary \\n\\u2022 Electrical appliance damage \\nExclusions: \\n\\u2022 Wear & tear \\n\\u2022 War/terrorism-related damage \\n \\nHow to Use These Samples?\",\n",
      "    \"metadata\": {\n",
      "      \"page\": 1,\n",
      "      \"source\": \"sample_policy.pdf\"\n",
      "    }\n",
      "  },\n",
      "  {\n",
      "    \"content\": \"1. For PDF Parser Testing: \\no Save these as .txt or .pdf files in your data/ folder. \\no Test extraction of key fields (Policy No., Coverage, Exclusions). \\n2. For Query Testing: \\no Use questions like: \\n\\u25aa \\\"What is the sum insured in HEALTH2023XYZ456?\\\" \\n\\u25aa \\\"List exclusions in the car insurance policy.\\\"\",\n",
      "    \"metadata\": {\n",
      "      \"page\": 2,\n",
      "      \"source\": \"sample_policy.pdf\"\n",
      "    }\n",
      "  }\n",
      "]\n"
     ]
    }
   ],
   "source": [
    "import json\n",
    "\n",
    "# Get relevant chunks\n",
    "relevant_chunks = retriever.invoke(\"car insurance policy coverage details\")\n",
    "\n",
    "# Convert to JSON format\n",
    "results = []\n",
    "for chunk in relevant_chunks[:3]:  # Limit to 3 chunks\n",
    "    results.append({\n",
    "        \"content\": chunk.page_content,\n",
    "        \"metadata\": {\n",
    "            \"page\": chunk.metadata.get(\"page\", None),\n",
    "            \"source\": chunk.metadata.get(\"source\", \"unknown\")\n",
    "        }\n",
    "    })\n",
    "\n",
    "# Pretty print JSON\n",
    "print(json.dumps(results, indent=2))"
   ]
  },
  {
   "cell_type": "code",
   "execution_count": 295,
   "metadata": {},
   "outputs": [],
   "source": [
    "# Prompt template\n",
    "PROMPT_TEMPLATE = \"\"\"\n",
    "You are an assistant for question-answering tasks.\n",
    "Use the following pieces of retrieved context to answer\n",
    "the question. \n",
    "\n",
    "{context}\n",
    "\n",
    "---\n",
    "\n",
    "Answer the question based on the above context: {question}\n",
    "\"\"\""
   ]
  },
  {
   "cell_type": "markdown",
   "metadata": {},
   "source": [
    "## 3. Generate responses"
   ]
  },
  {
   "cell_type": "code",
   "execution_count": 296,
   "metadata": {},
   "outputs": [
    {
     "name": "stdout",
     "output_type": "stream",
     "text": [
      "Human: \n",
      "You are an assistant for question-answering tasks.\n",
      "Use the following pieces of retrieved context to answer\n",
      "the question. \n",
      "\n",
      "1. Car Insurance Policy (Sample) \n",
      "Policy Number: CAR2023XYZ123 \n",
      "Insured: John Doe \n",
      "Coverage Period: 01-Jan-2024 to 31-Dec-2024 \n",
      "Vehicle Details: \n",
      "• Make: Toyota \n",
      "• Model: Camry 2022 \n",
      "• Registration: DL01AB1234 \n",
      "Coverage: \n",
      "• Third-Party Liability: ₹15,00,000 \n",
      "• Own Damage: ₹8,00,000 \n",
      "• Personal Accident Cover: ₹10,00,000 \n",
      "Exclusions: \n",
      "• Damage due to war/nuclear risks \n",
      "• Driving under influence of alcohol \n",
      " \n",
      "2. Health Insurance Policy (Sample) \n",
      "Policy Number: HEALTH2023XYZ456 \n",
      "Insured: Jane Smith \n",
      "Coverage Period: 01-Feb-2024 to 31-Jan-2025 \n",
      "Sum Insured: ₹5,00,000 \n",
      "Coverage Includes: \n",
      "• Hospitalization expenses \n",
      "• Pre/post-hospitalization (30/60 days) \n",
      "• Day-care procedures \n",
      "Exclusions: \n",
      "• Cosmetic treatments \n",
      "• Pre-existing diseases (for first 2 years) \n",
      " \n",
      "3. Term Life Insurance Policy (Sample) \n",
      "Policy Number: LIFE2023XYZ789 \n",
      "Insured: Robert Johnson \n",
      "Coverage Period: 15-Mar-2024 to 14-Mar-2034 \n",
      "Sum Assured: ₹1,00,00,000\n",
      "\n",
      "---\n",
      "\n",
      "Benefits: \n",
      "• Death benefit to nominee \n",
      "• Critical illness rider (optional) \n",
      "Exclusions: \n",
      "• Suicide within first year \n",
      "• Death due to illegal activities \n",
      " \n",
      "4. Travel Insurance Policy (Sample) \n",
      "Policy Number: TRAVEL2023XYZ101 \n",
      "Insured: Sarah Williams \n",
      "Trip Duration: 10 days (Europe) \n",
      "Coverage: \n",
      "• Medical emergencies: €50,000 \n",
      "• Trip cancellation: ₹1,00,000 \n",
      "• Lost baggage: ₹50,000 \n",
      "Exclusions: \n",
      "• Extreme sports injuries \n",
      "• Pre-existing medical conditions \n",
      " \n",
      "5. Home Insurance Policy (Sample) \n",
      "Policy Number: HOME2023XYZ202 \n",
      "Insured: Michael Brown \n",
      "Property Address: 123, Green Park, Delhi \n",
      "Sum Insured: ₹75,00,000 \n",
      "Coverage: \n",
      "• Fire & natural disasters \n",
      "• Theft/burglary \n",
      "• Electrical appliance damage \n",
      "Exclusions: \n",
      "• Wear & tear \n",
      "• War/terrorism-related damage \n",
      " \n",
      "How to Use These Samples?\n",
      "\n",
      "---\n",
      "\n",
      "1. For PDF Parser Testing: \n",
      "o Save these as .txt or .pdf files in your data/ folder. \n",
      "o Test extraction of key fields (Policy No., Coverage, Exclusions). \n",
      "2. For Query Testing: \n",
      "o Use questions like: \n",
      "▪ \"What is the sum insured in HEALTH2023XYZ456?\" \n",
      "▪ \"List exclusions in the car insurance policy.\"\n",
      "\n",
      "---\n",
      "\n",
      "Answer the question based on the above context: what is main toopic of the document? \n",
      "\n"
     ]
    }
   ],
   "source": [
    "# Concatenate context text\n",
    "context_text = \"\\n\\n---\\n\\n\".join([doc.page_content for doc in relevant_chunks])\n",
    "\n",
    "# Create prompt\n",
    "prompt_template = ChatPromptTemplate.from_template(PROMPT_TEMPLATE)\n",
    "prompt = prompt_template.format(context=context_text, \n",
    "                                question=\"what is main toopic of the document? \")\n",
    "print(prompt)"
   ]
  },
  {
   "cell_type": "code",
   "execution_count": 297,
   "metadata": {},
   "outputs": [
    {
     "data": {
      "text/plain": [
       "'According to the provided samples, the main topic of the documents is **Insurance Policies**. \\n\\nThe context explicitly states: “The documents cover various types of insurance policies, including Car Insurance, Health Insurance, Term Life Insurance, Travel Insurance, and Home Insurance.”'"
      ]
     },
     "execution_count": 297,
     "metadata": {},
     "output_type": "execute_result"
    }
   ],
   "source": [
    "llm.invoke(prompt)"
   ]
  },
  {
   "cell_type": "markdown",
   "metadata": {},
   "source": [
    "### Using Langchain Expression Language"
   ]
  },
  {
   "cell_type": "code",
   "execution_count": 298,
   "metadata": {},
   "outputs": [
    {
     "data": {
      "text/plain": [
       "'Based on the provided context, here’s the information about the car insurance policy:\\n\\n**Car Insurance Policy**\\n\\n*   **Policy Number:** CAR2023XYZ123\\n*   **Insured:** John Doe\\n*   **Coverage:**\\n    *   Third-Party Liability: ₹15,00,000\\n    *   Own Damage: ₹8,00,000\\n    *   Personal Accident Cover: ₹10,00,000\\n\\nThe policy covers ₹15,00,000 for third-party liability, ₹8,00,000 for own damage, and ₹10,00,000 for personal accident cover.'"
      ]
     },
     "execution_count": 298,
     "metadata": {},
     "output_type": "execute_result"
    }
   ],
   "source": [
    "def format_docs(docs):\n",
    "    return \"\\n\\n\".join(doc.page_content for doc in docs)\n",
    "\n",
    "rag_chain = (\n",
    "            {\"context\": retriever | format_docs, \"question\": RunnablePassthrough()}\n",
    "            | prompt_template\n",
    "            | llm\n",
    "        )\n",
    "rag_chain.invoke(\"tell about car insurence policy\")"
   ]
  },
  {
   "cell_type": "markdown",
   "metadata": {},
   "source": [
    "### Generate structured responses"
   ]
  },
  {
   "cell_type": "code",
   "execution_count": 299,
   "metadata": {},
   "outputs": [],
   "source": [
    "class AnswerWithSources(BaseModel):\n",
    "    \"\"\"An answer to the question, with sources and reasoning.\"\"\"\n",
    "    answer: str = Field(description=\"Answer to question\")\n",
    "    sources: str = Field(description=\"Full direct text chunk from the context used to answer the question\")\n",
    "    reasoning: str = Field(description=\"Explain the reasoning of the answer based on the sources\")\n",
    "    \n",
    "class ExtractedInfo(BaseModel):\n",
    "    \"\"\"Extracted information about the research article\"\"\"\n",
    "    paper_title: AnswerWithSources\n",
    "    paper_summary: AnswerWithSources\n",
    "    publication_year: AnswerWithSources\n",
    "    paper_authors: AnswerWithSources"
   ]
  },
  {
   "cell_type": "markdown",
   "metadata": {},
   "source": [
    "### Transform response into a dataframe"
   ]
  },
  {
   "cell_type": "code",
   "execution_count": null,
   "metadata": {},
   "outputs": [],
   "source": []
  }
 ],
 "metadata": {
  "kernelspec": {
   "display_name": "base",
   "language": "python",
   "name": "python3"
  },
  "language_info": {
   "codemirror_mode": {
    "name": "ipython",
    "version": 3
   },
   "file_extension": ".py",
   "mimetype": "text/x-python",
   "name": "python",
   "nbconvert_exporter": "python",
   "pygments_lexer": "ipython3",
   "version": "3.13.5"
  }
 },
 "nbformat": 4,
 "nbformat_minor": 2
}
